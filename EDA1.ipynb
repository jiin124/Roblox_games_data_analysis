{
 "cells": [
  {
   "cell_type": "code",
   "execution_count": 36,
   "metadata": {},
   "outputs": [],
   "source": [
    "import seaborn as sns\n",
    "import numpy as np\n",
    "import pandas as pd\n",
    "import matplotlib.pyplot as plt\n",
    "plt.style.use('ggplot')\n",
    "import warnings\n",
    "warnings.filterwarnings('ignore')"
   ]
  },
  {
   "cell_type": "code",
   "execution_count": 40,
   "metadata": {},
   "outputs": [
    {
     "data": {
      "text/html": [
       "<div>\n",
       "<style scoped>\n",
       "    .dataframe tbody tr th:only-of-type {\n",
       "        vertical-align: middle;\n",
       "    }\n",
       "\n",
       "    .dataframe tbody tr th {\n",
       "        vertical-align: top;\n",
       "    }\n",
       "\n",
       "    .dataframe thead th {\n",
       "        text-align: right;\n",
       "    }\n",
       "</style>\n",
       "<table border=\"1\" class=\"dataframe\">\n",
       "  <thead>\n",
       "    <tr style=\"text-align: right;\">\n",
       "      <th></th>\n",
       "      <th>Date</th>\n",
       "      <th>Active Users</th>\n",
       "      <th>Favorites</th>\n",
       "      <th>Total Visits</th>\n",
       "      <th>Date Created</th>\n",
       "      <th>Last Updated</th>\n",
       "      <th>Server Size</th>\n",
       "      <th>Genre</th>\n",
       "      <th>Title</th>\n",
       "      <th>Creator</th>\n",
       "      <th>gameID</th>\n",
       "      <th>Category</th>\n",
       "      <th>URL</th>\n",
       "      <th>Description</th>\n",
       "    </tr>\n",
       "  </thead>\n",
       "  <tbody>\n",
       "    <tr>\n",
       "      <th>0</th>\n",
       "      <td>2022-02-22 09:28:23</td>\n",
       "      <td>1557</td>\n",
       "      <td>330071</td>\n",
       "      <td>50.9M+</td>\n",
       "      <td>5/5/2021</td>\n",
       "      <td>2/19/2022</td>\n",
       "      <td>8</td>\n",
       "      <td>Building</td>\n",
       "      <td>[TIER8]FactorySimulatorByGamingGloveStudios</td>\n",
       "      <td>Gaming Glove Studios</td>\n",
       "      <td>6769764667</td>\n",
       "      <td>Most Engaging</td>\n",
       "      <td>https://www.roblox.com/games/refer?IsLargeGame...</td>\n",
       "      <td>🏭Harvest the worlds resources to build up your...</td>\n",
       "    </tr>\n",
       "    <tr>\n",
       "      <th>1</th>\n",
       "      <td>2022-02-22 09:28:24</td>\n",
       "      <td>3208</td>\n",
       "      <td>137809</td>\n",
       "      <td>30.9M+</td>\n",
       "      <td>4/22/2019</td>\n",
       "      <td>2/21/2022</td>\n",
       "      <td>12</td>\n",
       "      <td>All Genres</td>\n",
       "      <td>[NEWBOSS]AnimeClickersSimulatorBySimpleSimulators</td>\n",
       "      <td>Simple Simulators</td>\n",
       "      <td>3102144307</td>\n",
       "      <td>Most Engaging</td>\n",
       "      <td>https://www.roblox.com/games/refer?IsLargeGame...</td>\n",
       "      <td>Welcome to Anime Clickers! 👍New Code at 100k L...</td>\n",
       "    </tr>\n",
       "    <tr>\n",
       "      <th>2</th>\n",
       "      <td>2022-02-22 09:28:24</td>\n",
       "      <td>2091</td>\n",
       "      <td>2556671</td>\n",
       "      <td>725.7M+</td>\n",
       "      <td>10/16/2015</td>\n",
       "      <td>2/4/2022</td>\n",
       "      <td>20</td>\n",
       "      <td>Adventure</td>\n",
       "      <td>(Cosmiore☄️)LoomianLegacyByLlamaTrainStudio</td>\n",
       "      <td>Llama Train Studio</td>\n",
       "      <td>306964494</td>\n",
       "      <td>Most Engaging</td>\n",
       "      <td>https://www.roblox.com/games/refer?IsLargeGame...</td>\n",
       "      <td>Loomian Legacy is an in-development MMO Advent...</td>\n",
       "    </tr>\n",
       "    <tr>\n",
       "      <th>3</th>\n",
       "      <td>2022-02-22 09:28:25</td>\n",
       "      <td>6235</td>\n",
       "      <td>711635</td>\n",
       "      <td>461.2M+</td>\n",
       "      <td>2/25/2018</td>\n",
       "      <td>2/10/2022</td>\n",
       "      <td>12</td>\n",
       "      <td>Fighting</td>\n",
       "      <td>[CHRISTMAS+GODUSOPP+KIRITO]ABAByDogsStudios:South</td>\n",
       "      <td>Dogs Studios: South</td>\n",
       "      <td>1458767429</td>\n",
       "      <td>Most Engaging</td>\n",
       "      <td>https://www.roblox.com/games/refer?IsLargeGame...</td>\n",
       "      <td>ANIME BATTLE ARENA Controls: Shift: Sprint Q: ...</td>\n",
       "    </tr>\n",
       "    <tr>\n",
       "      <th>4</th>\n",
       "      <td>2022-02-22 09:28:26</td>\n",
       "      <td>7273</td>\n",
       "      <td>247852</td>\n",
       "      <td>77.2M+</td>\n",
       "      <td>10/12/2019</td>\n",
       "      <td>2/22/2022</td>\n",
       "      <td>15</td>\n",
       "      <td>RPG</td>\n",
       "      <td>DeepwokenByVowsbytheSea</td>\n",
       "      <td>Vows by the Sea</td>\n",
       "      <td>4111023553</td>\n",
       "      <td>Most Engaging</td>\n",
       "      <td>https://www.roblox.com/games/refer?IsLargeGame...</td>\n",
       "      <td>&gt;&gt; Deepwoken is a difficult game with permanen...</td>\n",
       "    </tr>\n",
       "  </tbody>\n",
       "</table>\n",
       "</div>"
      ],
      "text/plain": [
       "                  Date  Active Users  Favorites Total Visits Date Created  \\\n",
       "0  2022-02-22 09:28:23          1557     330071       50.9M+     5/5/2021   \n",
       "1  2022-02-22 09:28:24          3208     137809       30.9M+    4/22/2019   \n",
       "2  2022-02-22 09:28:24          2091    2556671      725.7M+   10/16/2015   \n",
       "3  2022-02-22 09:28:25          6235     711635      461.2M+    2/25/2018   \n",
       "4  2022-02-22 09:28:26          7273     247852       77.2M+   10/12/2019   \n",
       "\n",
       "  Last Updated  Server Size       Genre  \\\n",
       "0    2/19/2022            8    Building   \n",
       "1    2/21/2022           12  All Genres   \n",
       "2     2/4/2022           20   Adventure   \n",
       "3    2/10/2022           12    Fighting   \n",
       "4    2/22/2022           15         RPG   \n",
       "\n",
       "                                               Title               Creator  \\\n",
       "0        [TIER8]FactorySimulatorByGamingGloveStudios  Gaming Glove Studios   \n",
       "1  [NEWBOSS]AnimeClickersSimulatorBySimpleSimulators     Simple Simulators   \n",
       "2        (Cosmiore☄️)LoomianLegacyByLlamaTrainStudio    Llama Train Studio   \n",
       "3  [CHRISTMAS+GODUSOPP+KIRITO]ABAByDogsStudios:South   Dogs Studios: South   \n",
       "4                            DeepwokenByVowsbytheSea       Vows by the Sea   \n",
       "\n",
       "       gameID       Category  \\\n",
       "0  6769764667  Most Engaging   \n",
       "1  3102144307  Most Engaging   \n",
       "2   306964494  Most Engaging   \n",
       "3  1458767429  Most Engaging   \n",
       "4  4111023553  Most Engaging   \n",
       "\n",
       "                                                 URL  \\\n",
       "0  https://www.roblox.com/games/refer?IsLargeGame...   \n",
       "1  https://www.roblox.com/games/refer?IsLargeGame...   \n",
       "2  https://www.roblox.com/games/refer?IsLargeGame...   \n",
       "3  https://www.roblox.com/games/refer?IsLargeGame...   \n",
       "4  https://www.roblox.com/games/refer?IsLargeGame...   \n",
       "\n",
       "                                         Description  \n",
       "0  🏭Harvest the worlds resources to build up your...  \n",
       "1  Welcome to Anime Clickers! 👍New Code at 100k L...  \n",
       "2  Loomian Legacy is an in-development MMO Advent...  \n",
       "3  ANIME BATTLE ARENA Controls: Shift: Sprint Q: ...  \n",
       "4  >> Deepwoken is a difficult game with permanen...  "
      ]
     },
     "execution_count": 40,
     "metadata": {},
     "output_type": "execute_result"
    }
   ],
   "source": [
    "df=pd.read_csv('roblox_games_data.csv')\n",
    "df=df.drop('Unnamed: 0',axis=1)\n",
    "df.head()"
   ]
  },
  {
   "cell_type": "code",
   "execution_count": 41,
   "metadata": {},
   "outputs": [
    {
     "name": "stdout",
     "output_type": "stream",
     "text": [
      "<class 'pandas.core.frame.DataFrame'>\n",
      "RangeIndex: 119715 entries, 0 to 119714\n",
      "Data columns (total 14 columns):\n",
      " #   Column        Non-Null Count   Dtype \n",
      "---  ------        --------------   ----- \n",
      " 0   Date          119715 non-null  object\n",
      " 1   Active Users  119715 non-null  int64 \n",
      " 2   Favorites     119715 non-null  int64 \n",
      " 3   Total Visits  119715 non-null  object\n",
      " 4   Date Created  119715 non-null  object\n",
      " 5   Last Updated  119715 non-null  object\n",
      " 6   Server Size   119715 non-null  int64 \n",
      " 7   Genre         119715 non-null  object\n",
      " 8   Title         119715 non-null  object\n",
      " 9   Creator       119715 non-null  object\n",
      " 10  gameID        119715 non-null  int64 \n",
      " 11  Category      119715 non-null  object\n",
      " 12  URL           119715 non-null  object\n",
      " 13  Description   119459 non-null  object\n",
      "dtypes: int64(4), object(10)\n",
      "memory usage: 12.8+ MB\n"
     ]
    }
   ],
   "source": [
    "df.info()"
   ]
  },
  {
   "cell_type": "markdown",
   "metadata": {},
   "source": [
    "### 날짜 수정"
   ]
  },
  {
   "cell_type": "code",
   "execution_count": 47,
   "metadata": {},
   "outputs": [],
   "source": [
    "df['Date']=pd.to_datetime(df['Date'])\n",
    "df['Date Created']=pd.to_datetime(df['Date Created'])\n",
    "df['Last Updated']=pd.to_datetime(df['Last Updated'])"
   ]
  },
  {
   "cell_type": "code",
   "execution_count": 49,
   "metadata": {},
   "outputs": [],
   "source": [
    "df['Date_year']=df['Date'].dt.year\n",
    "df['Date_month']=df['Date'].dt.month\n",
    "df['Date_day']=df['Date'].dt.day\n",
    "df['Date_week']=df['Date'].dt.weekday\n",
    "df['Date_hour']=df['Date'].dt.hour"
   ]
  },
  {
   "cell_type": "code",
   "execution_count": 50,
   "metadata": {},
   "outputs": [],
   "source": [
    "df['created_year']=df['Date Created'].dt.year\n",
    "df['created_month']=df['Date Created'].dt.month\n",
    "df['created_day']=df['Date Created'].dt.day\n",
    "df['created_week']=df['Date Created'].dt.weekday\n",
    "df['created_hour']=df['Date Created'].dt.hour"
   ]
  },
  {
   "cell_type": "code",
   "execution_count": 51,
   "metadata": {},
   "outputs": [],
   "source": [
    "#요일 바꾸기\n",
    "weekday=['Date_week','created_week']\n",
    "\n",
    "mapping={0:'월',1:'화',2:'수',3:'목',4:'금',5:'토',6:'일'}\n",
    "\n",
    "for col in weekday:\n",
    "    df[col]=df[col].map(mapping)"
   ]
  },
  {
   "cell_type": "markdown",
   "metadata": {},
   "source": [
    "### Total_visits 수정"
   ]
  },
  {
   "cell_type": "code",
   "execution_count": 55,
   "metadata": {},
   "outputs": [],
   "source": [
    "#단위만 잘라내기\n",
    "df['unit']=df['Total Visits'].str[-2:]\n",
    "df['Total Visits']=df['Total Visits'].str[:-2]"
   ]
  },
  {
   "cell_type": "code",
   "execution_count": 57,
   "metadata": {},
   "outputs": [
    {
     "data": {
      "text/plain": [
       "M+    85410\n",
       "B+    32766\n",
       "K+     1539\n",
       "Name: unit, dtype: int64"
      ]
     },
     "execution_count": 57,
     "metadata": {},
     "output_type": "execute_result"
    }
   ],
   "source": [
    "df['unit'].value_counts()"
   ]
  },
  {
   "cell_type": "code",
   "execution_count": 61,
   "metadata": {},
   "outputs": [],
   "source": [
    "#Total_Visits 문자열->날짜로 숫자로 바꾸기\n",
    "df['Total Visits']=pd.to_numeric(df['Total Visits'])"
   ]
  },
  {
   "cell_type": "code",
   "execution_count": 64,
   "metadata": {},
   "outputs": [],
   "source": [
    "#단위 값에 따라 값 바꾸어주기.\n",
    "for i in range(len(df)):\n",
    "    if df['unit'][i]=='M+':\n",
    "        df['Total Visits'][i]=df['Total Visits'][i]*1000000\n",
    "\n",
    "    elif df['unit'][i]=='B+':\n",
    "        df['Total Visits'][i]=df['Total Visits'][i]*1000000000\n",
    "        \n",
    "    else:\n",
    "        df['Total Visits'][i]=df['Total Visits'][i]*1000"
   ]
  },
  {
   "cell_type": "code",
   "execution_count": null,
   "metadata": {},
   "outputs": [],
   "source": [
    "df.head()"
   ]
  },
  {
   "cell_type": "code",
   "execution_count": 66,
   "metadata": {},
   "outputs": [
    {
     "name": "stdout",
     "output_type": "stream",
     "text": [
      "<class 'pandas.core.frame.DataFrame'>\n",
      "RangeIndex: 119715 entries, 0 to 119714\n",
      "Data columns (total 25 columns):\n",
      " #   Column         Non-Null Count   Dtype         \n",
      "---  ------         --------------   -----         \n",
      " 0   Date           119715 non-null  datetime64[ns]\n",
      " 1   Active Users   119715 non-null  int64         \n",
      " 2   Favorites      119715 non-null  int64         \n",
      " 3   Total Visits   119715 non-null  float64       \n",
      " 4   Date Created   119715 non-null  datetime64[ns]\n",
      " 5   Last Updated   119715 non-null  datetime64[ns]\n",
      " 6   Server Size    119715 non-null  int64         \n",
      " 7   Genre          119715 non-null  object        \n",
      " 8   Title          119715 non-null  object        \n",
      " 9   Creator        119715 non-null  object        \n",
      " 10  gameID         119715 non-null  int64         \n",
      " 11  Category       119715 non-null  object        \n",
      " 12  URL            119715 non-null  object        \n",
      " 13  Description    119459 non-null  object        \n",
      " 14  Date_year      119715 non-null  int64         \n",
      " 15  Date_month     119715 non-null  int64         \n",
      " 16  Date_day       119715 non-null  int64         \n",
      " 17  Date_week      119715 non-null  object        \n",
      " 18  Date_hour      119715 non-null  int64         \n",
      " 19  created_year   119715 non-null  int64         \n",
      " 20  created_month  119715 non-null  int64         \n",
      " 21  created_day    119715 non-null  int64         \n",
      " 22  created_week   119715 non-null  object        \n",
      " 23  created_hour   119715 non-null  int64         \n",
      " 24  unit           119715 non-null  object        \n",
      "dtypes: datetime64[ns](3), float64(1), int64(12), object(9)\n",
      "memory usage: 22.8+ MB\n"
     ]
    }
   ],
   "source": [
    "df.info()"
   ]
  },
  {
   "cell_type": "markdown",
   "metadata": {},
   "source": [
    "## EDA"
   ]
  },
  {
   "cell_type": "code",
   "execution_count": null,
   "metadata": {},
   "outputs": [],
   "source": []
  }
 ],
 "metadata": {
  "kernelspec": {
   "display_name": "capstone",
   "language": "python",
   "name": "python3"
  },
  "language_info": {
   "codemirror_mode": {
    "name": "ipython",
    "version": 3
   },
   "file_extension": ".py",
   "mimetype": "text/x-python",
   "name": "python",
   "nbconvert_exporter": "python",
   "pygments_lexer": "ipython3",
   "version": "3.11.2"
  },
  "orig_nbformat": 4
 },
 "nbformat": 4,
 "nbformat_minor": 2
}
